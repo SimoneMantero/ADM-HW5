{
 "cells": [
  {
   "cell_type": "markdown",
   "metadata": {},
   "source": [
    "---\n",
    "\n",
    "# 3 Finding Best Routes (Q3)\n",
    "Whenever you plan to fly to a specific city, your goal is to find the most efficient and fastest flight to reach your destination. In the system you are designing, the best route is defined as the one that minimizes the total distance flown to the greatest extent possible.\n",
    "> In this task, you need to implement a function that, given an origin and destination city, determines the best possible route between them. To simplify, the focus will be limited to flights operating on a specific day.\n",
    "\n",
    "Note: Each city may have multiple airports; in such cases, the function should calculate the best route for every possible airport pair between the two cities. For example, if city A has airports a1, a2, and city B has b1, b2, the function should compute the best routes for a1 → b1, a1 → b2, a2 → b1 and a2 → b2. If it's not possible to travel from one airport in the origin city to another airport in the destination city on that date, you must report it as well.\n",
    "\n",
    "The function takes the following inputs:\n",
    "1. Flights network\n",
    "2. Origin city name\n",
    "3. Destination city name\n",
    "4. Considered Date (in yyyy-mm-dd format)\n",
    "\n",
    "The function output:\n",
    "1. A table with three columns: 'Origin _city_airport, 'Destination_city_airport', and the 'Best_route.\n",
    "\n",
    "Note: In the \"Best _route\" column, we expect a list of airport names connected by →, showing the order in which they are to be visited during the optimal route. If no such route exists, the entry should display \"No route found.\"\n",
    "\n",
    "---"
   ]
  },
  {
   "cell_type": "code",
   "execution_count": null,
   "metadata": {},
   "outputs": [],
   "source": [
    "from shortest_path\n",
    "import pandas as pd\n",
    "df = pd.read_csv('Airports2.csv')\n",
    "df = df.drop_duplicates(keep='last') # Drop duplicates, keeping the last entry"
   ]
  },
  {
   "cell_type": "markdown",
   "metadata": {},
   "source": [
    "Having loaded the data and removed duplicate entries by keeping the last entries only, we can proceed with selecting only the relevant columns for the task of Question 3. Namely by selecting by only keeping the columns 'Origin_airport', 'Destination_airport', 'Fly_date', 'Origin_city', 'Destination_city', 'Distance' and making a new dataframe, **working_df**."
   ]
  },
  {
   "cell_type": "code",
   "execution_count": null,
   "metadata": {},
   "outputs": [
    {
     "data": {
      "text/html": [
       "<div>\n",
       "<style scoped>\n",
       "    .dataframe tbody tr th:only-of-type {\n",
       "        vertical-align: middle;\n",
       "    }\n",
       "\n",
       "    .dataframe tbody tr th {\n",
       "        vertical-align: top;\n",
       "    }\n",
       "\n",
       "    .dataframe thead th {\n",
       "        text-align: right;\n",
       "    }\n",
       "</style>\n",
       "<table border=\"1\" class=\"dataframe\">\n",
       "  <thead>\n",
       "    <tr style=\"text-align: right;\">\n",
       "      <th></th>\n",
       "      <th>Origin_airport</th>\n",
       "      <th>Destination_airport</th>\n",
       "      <th>Origin_city</th>\n",
       "      <th>Destination_city</th>\n",
       "      <th>Passengers</th>\n",
       "      <th>Seats</th>\n",
       "      <th>Flights</th>\n",
       "      <th>Distance</th>\n",
       "      <th>Fly_date</th>\n",
       "      <th>Origin_population</th>\n",
       "      <th>Destination_population</th>\n",
       "      <th>Org_airport_lat</th>\n",
       "      <th>Org_airport_long</th>\n",
       "      <th>Dest_airport_lat</th>\n",
       "      <th>Dest_airport_long</th>\n",
       "    </tr>\n",
       "  </thead>\n",
       "  <tbody>\n",
       "    <tr>\n",
       "      <th>0</th>\n",
       "      <td>MHK</td>\n",
       "      <td>AMW</td>\n",
       "      <td>Manhattan, KS</td>\n",
       "      <td>Ames, IA</td>\n",
       "      <td>21</td>\n",
       "      <td>30</td>\n",
       "      <td>1</td>\n",
       "      <td>254</td>\n",
       "      <td>2008-10-01</td>\n",
       "      <td>122049</td>\n",
       "      <td>86219</td>\n",
       "      <td>39.140999</td>\n",
       "      <td>-96.670799</td>\n",
       "      <td>NaN</td>\n",
       "      <td>NaN</td>\n",
       "    </tr>\n",
       "    <tr>\n",
       "      <th>1</th>\n",
       "      <td>EUG</td>\n",
       "      <td>RDM</td>\n",
       "      <td>Eugene, OR</td>\n",
       "      <td>Bend, OR</td>\n",
       "      <td>41</td>\n",
       "      <td>396</td>\n",
       "      <td>22</td>\n",
       "      <td>103</td>\n",
       "      <td>1990-11-01</td>\n",
       "      <td>284093</td>\n",
       "      <td>76034</td>\n",
       "      <td>44.124599</td>\n",
       "      <td>-123.211998</td>\n",
       "      <td>44.254101</td>\n",
       "      <td>-121.150002</td>\n",
       "    </tr>\n",
       "    <tr>\n",
       "      <th>2</th>\n",
       "      <td>EUG</td>\n",
       "      <td>RDM</td>\n",
       "      <td>Eugene, OR</td>\n",
       "      <td>Bend, OR</td>\n",
       "      <td>88</td>\n",
       "      <td>342</td>\n",
       "      <td>19</td>\n",
       "      <td>103</td>\n",
       "      <td>1990-12-01</td>\n",
       "      <td>284093</td>\n",
       "      <td>76034</td>\n",
       "      <td>44.124599</td>\n",
       "      <td>-123.211998</td>\n",
       "      <td>44.254101</td>\n",
       "      <td>-121.150002</td>\n",
       "    </tr>\n",
       "    <tr>\n",
       "      <th>3</th>\n",
       "      <td>EUG</td>\n",
       "      <td>RDM</td>\n",
       "      <td>Eugene, OR</td>\n",
       "      <td>Bend, OR</td>\n",
       "      <td>11</td>\n",
       "      <td>72</td>\n",
       "      <td>4</td>\n",
       "      <td>103</td>\n",
       "      <td>1990-10-01</td>\n",
       "      <td>284093</td>\n",
       "      <td>76034</td>\n",
       "      <td>44.124599</td>\n",
       "      <td>-123.211998</td>\n",
       "      <td>44.254101</td>\n",
       "      <td>-121.150002</td>\n",
       "    </tr>\n",
       "    <tr>\n",
       "      <th>4</th>\n",
       "      <td>MFR</td>\n",
       "      <td>RDM</td>\n",
       "      <td>Medford, OR</td>\n",
       "      <td>Bend, OR</td>\n",
       "      <td>0</td>\n",
       "      <td>18</td>\n",
       "      <td>1</td>\n",
       "      <td>156</td>\n",
       "      <td>1990-02-01</td>\n",
       "      <td>147300</td>\n",
       "      <td>76034</td>\n",
       "      <td>42.374199</td>\n",
       "      <td>-122.873001</td>\n",
       "      <td>44.254101</td>\n",
       "      <td>-121.150002</td>\n",
       "    </tr>\n",
       "  </tbody>\n",
       "</table>\n",
       "</div>"
      ],
      "text/plain": [
       "  Origin_airport Destination_airport    Origin_city Destination_city  \\\n",
       "0            MHK                 AMW  Manhattan, KS         Ames, IA   \n",
       "1            EUG                 RDM     Eugene, OR         Bend, OR   \n",
       "2            EUG                 RDM     Eugene, OR         Bend, OR   \n",
       "3            EUG                 RDM     Eugene, OR         Bend, OR   \n",
       "4            MFR                 RDM    Medford, OR         Bend, OR   \n",
       "\n",
       "   Passengers  Seats  Flights  Distance    Fly_date  Origin_population  \\\n",
       "0          21     30        1       254  2008-10-01             122049   \n",
       "1          41    396       22       103  1990-11-01             284093   \n",
       "2          88    342       19       103  1990-12-01             284093   \n",
       "3          11     72        4       103  1990-10-01             284093   \n",
       "4           0     18        1       156  1990-02-01             147300   \n",
       "\n",
       "   Destination_population  Org_airport_lat  Org_airport_long  \\\n",
       "0                   86219        39.140999        -96.670799   \n",
       "1                   76034        44.124599       -123.211998   \n",
       "2                   76034        44.124599       -123.211998   \n",
       "3                   76034        44.124599       -123.211998   \n",
       "4                   76034        42.374199       -122.873001   \n",
       "\n",
       "   Dest_airport_lat  Dest_airport_long  \n",
       "0               NaN                NaN  \n",
       "1         44.254101        -121.150002  \n",
       "2         44.254101        -121.150002  \n",
       "3         44.254101        -121.150002  \n",
       "4         44.254101        -121.150002  "
      ]
     },
     "metadata": {},
     "output_type": "display_data"
    }
   ],
   "source": [
    "df.head()"
   ]
  },
  {
   "cell_type": "code",
   "execution_count": null,
   "metadata": {},
   "outputs": [],
   "source": [
    "# I need origin_airport, destination_airport, fly_date, origin_city, destination_city, and distance\n",
    "working_df = df[['Origin_airport', 'Destination_airport', 'Fly_date', 'Origin_city', 'Destination_city', 'Distance']].copy()"
   ]
  },
  {
   "cell_type": "markdown",
   "metadata": {},
   "source": [
    "Performing some sanity checks below:"
   ]
  },
  {
   "cell_type": "code",
   "execution_count": null,
   "metadata": {},
   "outputs": [
    {
     "data": {
      "text/plain": [
       "Origin_airport         0\n",
       "Destination_airport    0\n",
       "Fly_date               0\n",
       "Origin_city            0\n",
       "Destination_city       0\n",
       "Distance               0\n",
       "dtype: int64"
      ]
     },
     "metadata": {},
     "output_type": "display_data"
    }
   ],
   "source": [
    "working_df.isna().sum()"
   ]
  },
  {
   "cell_type": "code",
   "execution_count": null,
   "metadata": {},
   "outputs": [
    {
     "data": {
      "text/plain": [
       "Origin_airport         object\n",
       "Destination_airport    object\n",
       "Fly_date               object\n",
       "Origin_city            object\n",
       "Destination_city       object\n",
       "Distance                int64\n",
       "dtype: object"
      ]
     },
     "metadata": {},
     "output_type": "display_data"
    }
   ],
   "source": [
    "working_df.dtypes"
   ]
  },
  {
   "cell_type": "code",
   "execution_count": null,
   "metadata": {},
   "outputs": [
    {
     "name": "stdout",
     "output_type": "stream",
     "text": [
      "Any empty values in 'Origin_airport' column: 0\n",
      "Any empty values in 'Destination_airport' column: 0\n",
      "Any empty values in 'Fly_date' column: 0\n",
      "Any empty values in 'Origin_city' column: 0\n",
      "Any empty values in 'Destination_city' column: 0\n",
      "Any NA value in 'Distance' column: 0\n"
     ]
    }
   ],
   "source": [
    "print(f\"Any empty values in 'Origin_airport' column: {sum(working_df.Origin_airport == \"\")}\") # check if there are empty strings in Origin_airport\n",
    "print(f\"Any empty values in 'Destination_airport' column: {sum(working_df.Destination_airport == \"\")}\") # check if there are empty strings in Destination_airport\n",
    "print(f\"Any empty values in 'Fly_date' column: {sum(working_df.Fly_date == \"\")}\") # check if there are empty strings in Fly_date\n",
    "print(f\"Any empty values in 'Origin_city' column: {sum(working_df.Origin_city == \"\")}\") # check if there are empty strings in Origin_city\n",
    "print(f\"Any empty values in 'Destination_city' column: {sum(working_df.Destination_city == \"\")}\") # check if there are empty strings in Destination_city\n",
    "print(f\"Any NA value in 'Distance' column: {working_df.Distance.isna().sum()}\") # check if there are empty strings in Distance"
   ]
  },
  {
   "cell_type": "code",
   "execution_count": null,
   "metadata": {},
   "outputs": [],
   "source": [
    "working_df.Origin_airport = working_df.Origin_airport.str.strip()\n",
    "working_df.Destination_airport = working_df.Destination_airport.str.strip()\n",
    "working_df.Fly_date = working_df.Fly_date.str.strip()\n",
    "working_df.Origin_city = working_df.Origin_city.str.strip()\n",
    "working_df.Destination_city = working_df.Destination_city.str.strip()"
   ]
  },
  {
   "cell_type": "markdown",
   "metadata": {},
   "source": [
    "Because the algorithm we will use to find the shortest path in terms of distances requires non negative weights (distances), referring to Dijkstra's Algorithm, we have to ensure that no distance in the dataframe is negative and if, a few of them are negative, perhaps due to errors, we will remove those records."
   ]
  },
  {
   "cell_type": "code",
   "execution_count": null,
   "metadata": {},
   "outputs": [
    {
     "name": "stdout",
     "output_type": "stream",
     "text": [
      "Is there any record of flight with negative distance? Answer: No\n"
     ]
    }
   ],
   "source": [
    "working_df.Distance = working_df.Distance.astype(int)\n",
    "print(f\"Is there any record of flight with negative distance? Answer: {'Yes' if np.any(working_df.Distance < 0) else 'No'}\")"
   ]
  },
  {
   "cell_type": "markdown",
   "metadata": {},
   "source": [
    "We will now proceed to convert our dataframe to a __network__ of flights by making use of NetworkX data structure. We will create a flight network, using the `create_flight_network` defined in __shortest_path__ module, that takes in a dataframe and returns a Directed Graph (based on NetworkX data structure) along with relevant nodes, edges, and *data*."
   ]
  },
  {
   "cell_type": "code",
   "execution_count": null,
   "metadata": {},
   "outputs": [
    {
     "name": "stdout",
     "output_type": "stream",
     "text": [
      "Help on function create_flight_network in module shortest_path:\n",
      "\n",
      "create_flight_network(working_df)\n",
      "    Input:\n",
      "    working_df: pd.DataFrame, the working dataframe\n",
      "\n",
      "    Output:\n",
      "    G: nx.DiGraph, the flight network\n",
      "\n",
      "    About:\n",
      "    This function creates a directed graph using the networkx library.\n",
      "    The nodes of the graph are the airports and the edges are the flights between the airports.\n",
      "    The graph has the following attributes:\n",
      "    - Node attributes: city\n",
      "    - Edge attributes: distance, date\n",
      "\n"
     ]
    },
    {
     "name": "stderr",
     "output_type": "stream",
     "text": [
      "100%|██████████| 3565050/3565050 [00:05<00:00, 636485.01it/s]\n"
     ]
    }
   ],
   "source": [
    "help(shortest_path.create_flight_network)\n",
    "flight_network = shortest_path.create_flight_network(working_df)"
   ]
  },
  {
   "cell_type": "markdown",
   "metadata": {},
   "source": [
    "Having prepared the flight network, we can get a brief look at the problem we are trying to solve: <br>"
   ]
  },
  {
   "cell_type": "markdown",
   "metadata": {},
   "source": [
    "__Generic Problem__: Single-Source Shortest Paths.\n",
    "\n",
    "__Input__: A directed graph $G = (V, E)$, a starting vertex $s \\in V$, and a nonnegative length $l_e$ for each edge $e \\in E$. <br>\n",
    "__Output__: $dist(s,v)$ for every vertex $v \\in V$. <br> <br>\n",
    "\n",
    "---\n",
    "\n",
    "<h4 style=\"text-align:center;\">Pseudocode for the Algorithm Deployed: <i>(deploy_dijkstra in the shortest_path module)</i></h4>\n",
    "\n",
    "$$Dijkstra's Algorithm$$\n",
    "\n",
    "**Input:**\n",
    "- A graph $ G = (V, E) $ in adjacency-list form. Each edge $ e = (u, v) $ must have a non-negative weight $ l_{u,v} $.\n",
    "- A source node $ s \\in V $.\n",
    "\n",
    "**Output:**\n",
    "- `distances[v]`: The shortest distance from $ s $ to every node $ v $.\n",
    "- `predecessors[v]`: The predecessor of $ v $ in the shortest path, which we will use for path reconstruction.\n",
    "\n",
    "\n",
    "__Steps:__\n",
    "\n",
    "1. **Initialization:**\n",
    "    > Create a `distances` dictionary: <br>\n",
    "     - distances[v] = $+\\infty$ for all $ v \\in V $ (because we don't know the shortest distance).<br>\n",
    "     - distances[s] = 0 (distance to the source is zero).<br>\n",
    "    > Create a `predecessors` dictionary:<br>\n",
    "     - predecessors[v] = None, for all $ v \\in V $ (initially, we don't know the path leading to each V so we equate each to None).<br>\n",
    "    > Create a `priority_queue` (min-heap) and insert $(0, s)$, where first value in the tuple is the initialised distance and second value in the name of the Node. *The queue ensures that the node with the smallest known distance is processed first.*<br>\n",
    "\n",
    "2. **Main Loop:** <br>\n",
    "    While `priority_queue` is not empty: <br>\n",
    "    > Extract the node with the smallest distance by popping the first tuple from the queue: `current_distance, current_node = heapq.heappop(priority_queue)`. <br>\n",
    "    > If `current_distance > distances[current_node]`, skip this node (stale entry). <br>\n",
    "    > For each neighbor $ v $ of `current_node`:<br>\n",
    "       - Retrieve the edge weight (distance): $ l_{current\\_node, v} $.<br>\n",
    "       - Compute the *tentative* distance:<br>\n",
    "         - `new_distance = current_distance + l_{current_node, v}`.<br>\n",
    "       - If `new_distance < distances[v]`:<br>\n",
    "         - Update `distances[v] = new_distance`.<br>\n",
    "         - Update `predecessors[v] = current_node` so that we get a record of what preceeded the node in ordering of distance.<br>\n",
    "         - Push `(new_distance, v)` into the `priority_queue` so that we can iteratively start from the next node with the smallest distance.<br>\n",
    "\n",
    "3. **Returns:**\n",
    "   - `distances`: The shortest distance from $ s $ to every reachable node.\n",
    "   - `predecessors`: The predecessor of each node for path reconstruction.\n",
    "\n",
    "__Postcondition__: for every vertex $v$, the value $len(v)$ equals the true shortest-path distance $dist(s, v)$.\n",
    "\n",
    "---"
   ]
  },
  {
   "cell_type": "markdown",
   "metadata": {},
   "source": [
    "In the the __shortest_path__ module, we have created a function `deploy_dijkstra` using the pseudocode outlined about. It takes a flight network and a source airport code as input, and returns the shortest paths from the source airport to all other airports in the network using Dijkstra's algorithm. For more information, please refer to the docstring of the function using the following command: `help(shortest_path.deploy_dijkstra)` or navigate to the __shortest_path__ module and check the docstring of the function. <br>"
   ]
  },
  {
   "cell_type": "code",
   "execution_count": null,
   "metadata": {},
   "outputs": [
    {
     "name": "stdout",
     "output_type": "stream",
     "text": [
      "Printing the Docstring of the function deploy_dijkstra for reference:\n",
      "Help on function deploy_dijkstra in module shortest_path:\n",
      "\n",
      "deploy_dijkstra(flight_network, source)\n",
      "    Input:\n",
      "    flight_network: nx.DiGraph\n",
      "    source: str, the origin airport code\n",
      "\n",
      "    Output:\n",
      "    shortest_paths: dict, key: destination airport code, value: shortest path from source to destination\n",
      "    predecessors: dict, key: destination airport code, value: predecessor of the destination airport\n",
      "\n",
      "    About:\n",
      "    This function computes the shortest paths from a source airport to all other airports in the network using Dijkstra's algorithm.\n",
      "\n"
     ]
    }
   ],
   "source": [
    "print(f\"Printing the Docstring of the function deploy_dijkstra for reference:\")\n",
    "help(shortest_path.deploy_dijkstra)"
   ]
  },
  {
   "cell_type": "markdown",
   "metadata": {},
   "source": [
    "Recalling that the questions requires us to take find the shortest paths between airports from an origin city to airports in a destination city considering a __specific date__, we have created a fucntion named as `get_graph_for_a_date`which takes as inputs a date (str) and a directed graph, and returns back a directed graph but with nodes and edges which have the date attribute equal to the inserted into the function. This function will serve as a helper function for the next function `get_shortest_paths_for_a_date` which we will describe shortly. For more information on `get_graph_for_a_date`, please refer to the docstring of the function using the following command: `help(shortest_path.get_graph_for_a_date)` or navigate to the __shortest_path__ module and check the docstring of the function. <br>"
   ]
  },
  {
   "cell_type": "code",
   "execution_count": null,
   "metadata": {},
   "outputs": [
    {
     "name": "stdout",
     "output_type": "stream",
     "text": [
      "Printing the Docstring of the function get_graph_for_a_date for reference:\n",
      "Help on function get_graph_for_a_date in module shortest_path:\n",
      "\n",
      "get_graph_for_a_date(G, date)\n",
      "    Inputs:\n",
      "    G: (nx.DiGraph): Original graph.\n",
      "    date: (str): Date to filter edges.\n",
      "\n",
      "    Output:\n",
      "    graph_for_a_date: (nx.DiGraph): Filtered graph.\n",
      "\n",
      "    About:\n",
      "    Filters the graph to include only flights available on the given date.\n",
      "\n"
     ]
    }
   ],
   "source": [
    "print(f\"Printing the Docstring of the function get_graph_for_a_date for reference:\")\n",
    "help(shortest_path.get_graph_for_a_date)"
   ]
  },
  {
   "cell_type": "markdown",
   "metadata": {},
   "source": [
    "We have defined our Dijkstra's algorithm in a way that it also returns a dictionary of __predecessors__, which is a mapping of each node to its predecessor. This dictionary will be used to reconstruct the shortest path from the source to the destination. Here is where the __helper function__ `reconstruct_path` comes into play. It takes as inputs the predecessors dictionary, the source node, and the destination node, and returns the shortest path as a list of nodes. For more information on `reconstruct_path`, please refer to the docstring of the function using the following command: `help(shortest_path.reconstruct_path)` or navigate to the __shortest_path__ module and check the docstring of the function. <br>"
   ]
  },
  {
   "cell_type": "code",
   "execution_count": null,
   "metadata": {},
   "outputs": [
    {
     "name": "stdout",
     "output_type": "stream",
     "text": [
      "Printing the Docstring of the function reconstruct_path for reference:\n",
      "Help on function reconstruct_path in module shortest_path:\n",
      "\n",
      "reconstruct_path(predecessors, source, destination)\n",
      "    Inputs:\n",
      "    - predecessors (dict): Mapping of each node to its predecessor.\n",
      "    - source (str): The source node.\n",
      "    - destination (str): The destination node.\n",
      "\n",
      "    Output:\n",
      "    path: (list): List of nodes representing the shortest path.\n",
      "\n",
      "    About:\n",
      "    Reconstructs the shortest path from source to destination.\n",
      "\n"
     ]
    }
   ],
   "source": [
    "print(f\"Printing the Docstring of the function reconstruct_path for reference:\")\n",
    "help(shortest_path.reconstruct_path)"
   ]
  },
  {
   "cell_type": "markdown",
   "metadata": {},
   "source": [
    "Finally, we can move on to the main function `get_shortest_paths_for_a_date`. This function takes as inputs a date (str), a source city (str), a destination city (str), and a directed graph, and returns the shortest paths, in form of a __table__, from all the airports in the source city to all airports in the destination city on the given date. The function uses the helper functions `get_graph_for_a_date`, `deploy_dijkstra`, and `reconstruct_path` to achieve this. For more information on `get_shortest_paths_for_a_date`, please refer to the docstring of the function using the following command: `help(shortest_path.get_shortest_paths_for_a_date)` or navigate to the __shortest_path__ module and check the docstring of the function."
   ]
  },
  {
   "cell_type": "code",
   "execution_count": null,
   "metadata": {},
   "outputs": [
    {
     "name": "stdout",
     "output_type": "stream",
     "text": [
      "Printing the Docstring of the function get_shortest_paths_for_a_date for reference:\n",
      "Help on function get_shortest_paths_for_a_date in module shortest_path:\n",
      "\n",
      "get_shortest_paths_for_a_date(flight_network, origin_city_name, destination_city_name, date)\n",
      "    Inputs:\n",
      "    flight_network: nx.DiGraph, the flight network\n",
      "    origin_city_name: str, the name of the origin city\n",
      "    destination_city_name: str, the name of the destination city\n",
      "    date: str, the date of the flight\n",
      "\n",
      "    Output:\n",
      "    df: pd.DataFrame, the table with the best routes\n",
      "\n",
      "    About:\n",
      "    This function computes the best routes between all possible airport pairs between the origin and destination cities on a given date.\n",
      "\n"
     ]
    }
   ],
   "source": [
    "print(f\"Printing the Docstring of the function get_shortest_paths_for_a_date for reference:\")\n",
    "help(shortest_path.get_shortest_paths_for_a_date)"
   ]
  },
  {
   "cell_type": "code",
   "execution_count": null,
   "metadata": {},
   "outputs": [],
   "source": [
    "origin_city = \"New York, NY\"\n",
    "destination_city = \"Los Angeles, CA\"    \n",
    "date = '2007-12-01'\n",
    "shortest_paths = shortest_path.get_shortest_paths_for_a_date(flight_network, origin_city, destination_city, date)"
   ]
  },
  {
   "cell_type": "code",
   "execution_count": null,
   "metadata": {},
   "outputs": [
    {
     "name": "stdout",
     "output_type": "stream",
     "text": [
      "The following table prints the best routes from a particular airport in a specific origin city to a particular airport in a specific destination city on a particular date\n"
     ]
    },
    {
     "data": {
      "text/html": [
       "<div>\n",
       "<style scoped>\n",
       "    .dataframe tbody tr th:only-of-type {\n",
       "        vertical-align: middle;\n",
       "    }\n",
       "\n",
       "    .dataframe tbody tr th {\n",
       "        vertical-align: top;\n",
       "    }\n",
       "\n",
       "    .dataframe thead th {\n",
       "        text-align: right;\n",
       "    }\n",
       "</style>\n",
       "<table border=\"1\" class=\"dataframe\">\n",
       "  <thead>\n",
       "    <tr style=\"text-align: right;\">\n",
       "      <th></th>\n",
       "      <th>Origin_city_airport</th>\n",
       "      <th>Destination_city_airport</th>\n",
       "      <th>Best_route</th>\n",
       "      <th>Total_distance</th>\n",
       "    </tr>\n",
       "  </thead>\n",
       "  <tbody>\n",
       "    <tr>\n",
       "      <th>0</th>\n",
       "      <td>JFK</td>\n",
       "      <td>LAX</td>\n",
       "      <td>JFK-&gt;BFI-&gt;SAT-&gt;GTF-&gt;BHM-&gt;CKB-&gt;IND-&gt;CMI-&gt;LAX</td>\n",
       "      <td>9896.0</td>\n",
       "    </tr>\n",
       "    <tr>\n",
       "      <th>1</th>\n",
       "      <td>LGA</td>\n",
       "      <td>LAX</td>\n",
       "      <td>LGA-&gt;ATW-&gt;CSG-&gt;SAV-&gt;FAY-&gt;ADS-&gt;GLH-&gt;YIP-&gt;SFB-&gt;R...</td>\n",
       "      <td>14984.0</td>\n",
       "    </tr>\n",
       "    <tr>\n",
       "      <th>2</th>\n",
       "      <td>JRA</td>\n",
       "      <td>LAX</td>\n",
       "      <td>No route found</td>\n",
       "      <td>NaN</td>\n",
       "    </tr>\n",
       "    <tr>\n",
       "      <th>3</th>\n",
       "      <td>JRB</td>\n",
       "      <td>LAX</td>\n",
       "      <td>No route found</td>\n",
       "      <td>NaN</td>\n",
       "    </tr>\n",
       "    <tr>\n",
       "      <th>4</th>\n",
       "      <td>TSS</td>\n",
       "      <td>LAX</td>\n",
       "      <td>No route found</td>\n",
       "      <td>NaN</td>\n",
       "    </tr>\n",
       "    <tr>\n",
       "      <th>5</th>\n",
       "      <td>WTC</td>\n",
       "      <td>LAX</td>\n",
       "      <td>No route found</td>\n",
       "      <td>NaN</td>\n",
       "    </tr>\n",
       "  </tbody>\n",
       "</table>\n",
       "</div>"
      ],
      "text/plain": [
       "  Origin_city_airport Destination_city_airport  \\\n",
       "0                 JFK                      LAX   \n",
       "1                 LGA                      LAX   \n",
       "2                 JRA                      LAX   \n",
       "3                 JRB                      LAX   \n",
       "4                 TSS                      LAX   \n",
       "5                 WTC                      LAX   \n",
       "\n",
       "                                          Best_route  Total_distance  \n",
       "0        JFK->BFI->SAT->GTF->BHM->CKB->IND->CMI->LAX          9896.0  \n",
       "1  LGA->ATW->CSG->SAV->FAY->ADS->GLH->YIP->SFB->R...         14984.0  \n",
       "2                                     No route found             NaN  \n",
       "3                                     No route found             NaN  \n",
       "4                                     No route found             NaN  \n",
       "5                                     No route found             NaN  "
      ]
     },
     "metadata": {},
     "output_type": "display_data"
    }
   ],
   "source": [
    "print(f\"The following table prints the best routes from a particular airport in a specific origin city to a particular airport in a specific destination city on a particular date\")\n",
    "shortest_paths"
   ]
  },
  {
   "cell_type": "markdown",
   "metadata": {},
   "source": [
    "Even though it was not requested, we also added total_distance from origin airport to the destination airport for comparisons. To confirm if our results are correct, we thought of checking about the possibility that the there is an edge (a flight) from an airport in New York to an airport in Los Angeles (only LAX) because both cities are rather infamous. If there is an edge, then obviously that should be the shortest path between the two airports (instead of taking multiple connecting flights)"
   ]
  },
  {
   "cell_type": "code",
   "execution_count": null,
   "metadata": {},
   "outputs": [
    {
     "name": "stdout",
     "output_type": "stream",
     "text": [
      "Airports for New York City: ['JFK', 'LGA', 'JRA', 'JRB', 'TSS', 'WTC']\n",
      "Airports for Los Angeles: ['LAX']\n",
      "No flight available from New York City to Los Angeles, on 2007-12-01 from airport JFK to ['LAX']. For this reason, no distance available\n",
      "No flight available from New York City to Los Angeles, on 2007-12-01 from airport LGA to ['LAX']. For this reason, no distance available\n",
      "No flight available from New York City to Los Angeles, on 2007-12-01 from airport JRA to ['LAX']. For this reason, no distance available\n",
      "No flight available from New York City to Los Angeles, on 2007-12-01 from airport JRB to ['LAX']. For this reason, no distance available\n",
      "No flight available from New York City to Los Angeles, on 2007-12-01 from airport TSS to ['LAX']. For this reason, no distance available\n",
      "No flight available from New York City to Los Angeles, on 2007-12-01 from airport WTC to ['LAX']. For this reason, no distance available\n"
     ]
    }
   ],
   "source": [
    "# Get the filtered flight network for the specific date\n",
    "flight_network_filtered = shortest_path.get_graph_for_a_date(flight_network, date)\n",
    "\n",
    "# Get airports for New York City\n",
    "airports_for_nyc = [airport_code for airport_code, data in flight_network_filtered.nodes(data=True) if data['city'] == 'New York, NY']\n",
    "print(f\"Airports for New York City: {airports_for_nyc}\")\n",
    "\n",
    "# Get airports for Los Angeles\n",
    "airports_for_la = [airport_code for airport_code, data in flight_network_filtered.nodes(data=True) if data['city'] == 'Los Angeles, CA']\n",
    "print(f\"Airports for Los Angeles: {airports_for_la}\")\n",
    "\n",
    "# Check for flights from New York City to Los Angeles\n",
    "for airport_code in airports_for_nyc:\n",
    "    if flight_network_filtered.has_edge(airport_code, airports_for_la[0]):\n",
    "        print(f\"Flight from New York City to Los Angeles on {date} is available from airport {airport_code}\")\n",
    "        # Print the distances\n",
    "        print(f\"Distance: {flight_network_filtered[airport_code][airports_for_la[0]]['distance']} miles\")\n",
    "    else:\n",
    "        print(f\"No flight available from New York City to Los Angeles, on {date} from airport {airport_code} to {airports_for_la}. For this reason, no distance available\")"
   ]
  },
  {
   "cell_type": "markdown",
   "metadata": {},
   "source": [
    "The output above shows that there was no direct flight from NYC to LA - thus solidying the correctness of our results."
   ]
  },
  {
   "cell_type": "markdown",
   "metadata": {},
   "source": [
    "---\n",
    "\n",
    "**Another check**"
   ]
  },
  {
   "cell_type": "code",
   "execution_count": null,
   "metadata": {},
   "outputs": [
    {
     "name": "stdout",
     "output_type": "stream",
     "text": [
      "Using the original flight network (not filtered by date) to check for flights from New York City to Los Angeles so that we can get the date of the flight\n",
      "Airports for New York City: ['JFK', 'LGA', 'JRA', 'JRB', 'TSS', 'WTC']\n",
      "Airports for Los Angeles: ['LAX']\n",
      "Flight from New York City to Los Angeles on 2009-12-01 is available from airport JFK\n",
      "Distance: 2475 miles\n",
      "Flight from New York City to Los Angeles on 2009-10-01 is available from airport LGA\n",
      "Distance: 2469 miles\n",
      "No flight available from New York City to Los Angeles, on 2009-12-01 from airport JRA to LAX. For this reason, no distance available\n",
      "No flight available from New York City to Los Angeles, on 2009-12-01 from airport JRB to LAX. For this reason, no distance available\n",
      "No flight available from New York City to Los Angeles, on 2009-12-01 from airport TSS to LAX. For this reason, no distance available\n",
      "No flight available from New York City to Los Angeles, on 2009-12-01 from airport WTC to LAX. For this reason, no distance available\n"
     ]
    }
   ],
   "source": [
    "print(\"Using the original flight network (not filtered by date) to check for flights from New York City to Los Angeles so that we can get the date of the flight\")\n",
    "airports_for_nyc = [airport_code for airport_code, data in flight_network.nodes(data=True) if data['city'] == 'New York, NY']\n",
    "print(f\"Airports for New York City: {airports_for_nyc}\")\n",
    "\n",
    "# Get airports for Los Angeles\n",
    "airports_for_la = [airport_code for airport_code, data in flight_network.nodes(data=True) if data['city'] == 'Los Angeles, CA']\n",
    "print(f\"Airports for Los Angeles: {airports_for_la}\")\n",
    "\n",
    "# Check for flights from New York City to Los Angeles\n",
    "for airport_code in airports_for_nyc:\n",
    "    if flight_network.has_edge(airport_code, airports_for_la[0]):\n",
    "        print(f\"Flight from New York City to Los Angeles on {flight_network[airport_code][airports_for_la[0]]['date']} is available from airport {airport_code}\")\n",
    "        # Print the distances\n",
    "        print(f\"Distance: {flight_network[airport_code][airports_for_la[0]]['distance']} miles\")\n",
    "    else:\n",
    "        print(f\"No flight available from New York City to Los Angeles, on {date} from airport {airport_code} to {airports_for_la[0]}. For this reason, no distance available\")"
   ]
  },
  {
   "cell_type": "code",
   "execution_count": null,
   "metadata": {},
   "outputs": [
    {
     "name": "stdout",
     "output_type": "stream",
     "text": [
      "The following table prints the best routes from a particular airport in a specific origin city to a particular airport in a specific destination city on a particular date\n"
     ]
    },
    {
     "data": {
      "text/html": [
       "<div>\n",
       "<style scoped>\n",
       "    .dataframe tbody tr th:only-of-type {\n",
       "        vertical-align: middle;\n",
       "    }\n",
       "\n",
       "    .dataframe tbody tr th {\n",
       "        vertical-align: top;\n",
       "    }\n",
       "\n",
       "    .dataframe thead th {\n",
       "        text-align: right;\n",
       "    }\n",
       "</style>\n",
       "<table border=\"1\" class=\"dataframe\">\n",
       "  <thead>\n",
       "    <tr style=\"text-align: right;\">\n",
       "      <th></th>\n",
       "      <th>Origin_city_airport</th>\n",
       "      <th>Destination_city_airport</th>\n",
       "      <th>Best_route</th>\n",
       "      <th>Total_distance</th>\n",
       "    </tr>\n",
       "  </thead>\n",
       "  <tbody>\n",
       "    <tr>\n",
       "      <th>0</th>\n",
       "      <td>JFK</td>\n",
       "      <td>LAX</td>\n",
       "      <td>JFK-&gt;LAX</td>\n",
       "      <td>2475.0</td>\n",
       "    </tr>\n",
       "    <tr>\n",
       "      <th>1</th>\n",
       "      <td>LGA</td>\n",
       "      <td>LAX</td>\n",
       "      <td>LGA-&gt;ORD-&gt;LAX</td>\n",
       "      <td>2478.0</td>\n",
       "    </tr>\n",
       "    <tr>\n",
       "      <th>2</th>\n",
       "      <td>JRA</td>\n",
       "      <td>LAX</td>\n",
       "      <td>No route found</td>\n",
       "      <td>NaN</td>\n",
       "    </tr>\n",
       "    <tr>\n",
       "      <th>3</th>\n",
       "      <td>JRB</td>\n",
       "      <td>LAX</td>\n",
       "      <td>No route found</td>\n",
       "      <td>NaN</td>\n",
       "    </tr>\n",
       "    <tr>\n",
       "      <th>4</th>\n",
       "      <td>TSS</td>\n",
       "      <td>LAX</td>\n",
       "      <td>No route found</td>\n",
       "      <td>NaN</td>\n",
       "    </tr>\n",
       "    <tr>\n",
       "      <th>5</th>\n",
       "      <td>WTC</td>\n",
       "      <td>LAX</td>\n",
       "      <td>No route found</td>\n",
       "      <td>NaN</td>\n",
       "    </tr>\n",
       "  </tbody>\n",
       "</table>\n",
       "</div>"
      ],
      "text/plain": [
       "  Origin_city_airport Destination_city_airport      Best_route  Total_distance\n",
       "0                 JFK                      LAX        JFK->LAX          2475.0\n",
       "1                 LGA                      LAX   LGA->ORD->LAX          2478.0\n",
       "2                 JRA                      LAX  No route found             NaN\n",
       "3                 JRB                      LAX  No route found             NaN\n",
       "4                 TSS                      LAX  No route found             NaN\n",
       "5                 WTC                      LAX  No route found             NaN"
      ]
     },
     "metadata": {},
     "output_type": "display_data"
    }
   ],
   "source": [
    "date = '2009-12-01'\n",
    "shortest_paths = shortest_path.get_shortest_paths_for_a_date(flight_network, origin_city, destination_city, date)\n",
    "\n",
    "print(f\"The following table prints the best routes from a particular airport in a specific origin city to a particular airport in a specific destination city on a particular date\")\n",
    "\n",
    "shortest_paths"
   ]
  },
  {
   "cell_type": "markdown",
   "metadata": {},
   "source": [
    "The output above shows matches the true minimum intuitive distance!\n",
    "\n",
    "---"
   ]
  }
 ],
 "metadata": {
  "language_info": {
   "name": "python"
  }
 },
 "nbformat": 4,
 "nbformat_minor": 2
}
