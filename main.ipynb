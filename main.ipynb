{
 "cells": [
  {
   "cell_type": "markdown",
   "metadata": {},
   "source": [
    "# **ADM Homework 5 - USA Airport Flight Analysis**"
   ]
  },
  {
   "cell_type": "markdown",
   "metadata": {},
   "source": [
    "### Import Dataset and Libraries"
   ]
  },
  {
   "cell_type": "code",
   "execution_count": null,
   "metadata": {},
   "outputs": [],
   "source": [
    "!pip install kaggle"
   ]
  },
  {
   "cell_type": "code",
   "execution_count": null,
   "metadata": {},
   "outputs": [],
   "source": [
    "!kaggle datasets download flashgordon/usa-airport-dataset"
   ]
  },
  {
   "cell_type": "code",
   "execution_count": 1,
   "metadata": {},
   "outputs": [],
   "source": [
    "import zipfile\n",
    "import pandas as pd\n",
    "import numpy as np\n",
    "import matplotlib.pyplot as plt\n",
    "import networkx as nx\n",
    "from collections import defaultdict"
   ]
  },
  {
   "cell_type": "markdown",
   "metadata": {},
   "source": [
    "We unzip the file downloaded from Kaggle and save it to our current working directory."
   ]
  },
  {
   "cell_type": "code",
   "execution_count": 5,
   "metadata": {},
   "outputs": [],
   "source": [
    "# Unzip the file we downloaded from kaggle\n",
    "zip_file_path = 'usa-airport-dataset.zip'\n",
    "with zipfile.ZipFile(zip_file_path, 'r') as zip_ref:\n",
    "    zip_ref.extractall('.') # extract files to current working directory"
   ]
  },
  {
   "cell_type": "markdown",
   "metadata": {},
   "source": [
    "Now we save the data in a CSV file:"
   ]
  },
  {
   "cell_type": "code",
   "execution_count": 2,
   "metadata": {},
   "outputs": [
    {
     "data": {
      "text/html": [
       "<div>\n",
       "<style scoped>\n",
       "    .dataframe tbody tr th:only-of-type {\n",
       "        vertical-align: middle;\n",
       "    }\n",
       "\n",
       "    .dataframe tbody tr th {\n",
       "        vertical-align: top;\n",
       "    }\n",
       "\n",
       "    .dataframe thead th {\n",
       "        text-align: right;\n",
       "    }\n",
       "</style>\n",
       "<table border=\"1\" class=\"dataframe\">\n",
       "  <thead>\n",
       "    <tr style=\"text-align: right;\">\n",
       "      <th></th>\n",
       "      <th>Origin_airport</th>\n",
       "      <th>Destination_airport</th>\n",
       "      <th>Origin_city</th>\n",
       "      <th>Destination_city</th>\n",
       "      <th>Passengers</th>\n",
       "      <th>Seats</th>\n",
       "      <th>Flights</th>\n",
       "      <th>Distance</th>\n",
       "      <th>Fly_date</th>\n",
       "      <th>Origin_population</th>\n",
       "      <th>Destination_population</th>\n",
       "      <th>Org_airport_lat</th>\n",
       "      <th>Org_airport_long</th>\n",
       "      <th>Dest_airport_lat</th>\n",
       "      <th>Dest_airport_long</th>\n",
       "    </tr>\n",
       "  </thead>\n",
       "  <tbody>\n",
       "    <tr>\n",
       "      <th>0</th>\n",
       "      <td>MHK</td>\n",
       "      <td>AMW</td>\n",
       "      <td>Manhattan, KS</td>\n",
       "      <td>Ames, IA</td>\n",
       "      <td>21</td>\n",
       "      <td>30</td>\n",
       "      <td>1</td>\n",
       "      <td>254</td>\n",
       "      <td>2008-10-01</td>\n",
       "      <td>122049</td>\n",
       "      <td>86219</td>\n",
       "      <td>39.140999</td>\n",
       "      <td>-96.670799</td>\n",
       "      <td>NaN</td>\n",
       "      <td>NaN</td>\n",
       "    </tr>\n",
       "    <tr>\n",
       "      <th>1</th>\n",
       "      <td>EUG</td>\n",
       "      <td>RDM</td>\n",
       "      <td>Eugene, OR</td>\n",
       "      <td>Bend, OR</td>\n",
       "      <td>41</td>\n",
       "      <td>396</td>\n",
       "      <td>22</td>\n",
       "      <td>103</td>\n",
       "      <td>1990-11-01</td>\n",
       "      <td>284093</td>\n",
       "      <td>76034</td>\n",
       "      <td>44.124599</td>\n",
       "      <td>-123.211998</td>\n",
       "      <td>44.254101</td>\n",
       "      <td>-121.150002</td>\n",
       "    </tr>\n",
       "    <tr>\n",
       "      <th>2</th>\n",
       "      <td>EUG</td>\n",
       "      <td>RDM</td>\n",
       "      <td>Eugene, OR</td>\n",
       "      <td>Bend, OR</td>\n",
       "      <td>88</td>\n",
       "      <td>342</td>\n",
       "      <td>19</td>\n",
       "      <td>103</td>\n",
       "      <td>1990-12-01</td>\n",
       "      <td>284093</td>\n",
       "      <td>76034</td>\n",
       "      <td>44.124599</td>\n",
       "      <td>-123.211998</td>\n",
       "      <td>44.254101</td>\n",
       "      <td>-121.150002</td>\n",
       "    </tr>\n",
       "    <tr>\n",
       "      <th>3</th>\n",
       "      <td>EUG</td>\n",
       "      <td>RDM</td>\n",
       "      <td>Eugene, OR</td>\n",
       "      <td>Bend, OR</td>\n",
       "      <td>11</td>\n",
       "      <td>72</td>\n",
       "      <td>4</td>\n",
       "      <td>103</td>\n",
       "      <td>1990-10-01</td>\n",
       "      <td>284093</td>\n",
       "      <td>76034</td>\n",
       "      <td>44.124599</td>\n",
       "      <td>-123.211998</td>\n",
       "      <td>44.254101</td>\n",
       "      <td>-121.150002</td>\n",
       "    </tr>\n",
       "    <tr>\n",
       "      <th>4</th>\n",
       "      <td>MFR</td>\n",
       "      <td>RDM</td>\n",
       "      <td>Medford, OR</td>\n",
       "      <td>Bend, OR</td>\n",
       "      <td>0</td>\n",
       "      <td>18</td>\n",
       "      <td>1</td>\n",
       "      <td>156</td>\n",
       "      <td>1990-02-01</td>\n",
       "      <td>147300</td>\n",
       "      <td>76034</td>\n",
       "      <td>42.374199</td>\n",
       "      <td>-122.873001</td>\n",
       "      <td>44.254101</td>\n",
       "      <td>-121.150002</td>\n",
       "    </tr>\n",
       "  </tbody>\n",
       "</table>\n",
       "</div>"
      ],
      "text/plain": [
       "  Origin_airport Destination_airport    Origin_city Destination_city  \\\n",
       "0            MHK                 AMW  Manhattan, KS         Ames, IA   \n",
       "1            EUG                 RDM     Eugene, OR         Bend, OR   \n",
       "2            EUG                 RDM     Eugene, OR         Bend, OR   \n",
       "3            EUG                 RDM     Eugene, OR         Bend, OR   \n",
       "4            MFR                 RDM    Medford, OR         Bend, OR   \n",
       "\n",
       "   Passengers  Seats  Flights  Distance    Fly_date  Origin_population  \\\n",
       "0          21     30        1       254  2008-10-01             122049   \n",
       "1          41    396       22       103  1990-11-01             284093   \n",
       "2          88    342       19       103  1990-12-01             284093   \n",
       "3          11     72        4       103  1990-10-01             284093   \n",
       "4           0     18        1       156  1990-02-01             147300   \n",
       "\n",
       "   Destination_population  Org_airport_lat  Org_airport_long  \\\n",
       "0                   86219        39.140999        -96.670799   \n",
       "1                   76034        44.124599       -123.211998   \n",
       "2                   76034        44.124599       -123.211998   \n",
       "3                   76034        44.124599       -123.211998   \n",
       "4                   76034        42.374199       -122.873001   \n",
       "\n",
       "   Dest_airport_lat  Dest_airport_long  \n",
       "0               NaN                NaN  \n",
       "1         44.254101        -121.150002  \n",
       "2         44.254101        -121.150002  \n",
       "3         44.254101        -121.150002  \n",
       "4         44.254101        -121.150002  "
      ]
     },
     "execution_count": 2,
     "metadata": {},
     "output_type": "execute_result"
    }
   ],
   "source": [
    "df = pd.read_csv('Airports2.csv')\n",
    "df.head()"
   ]
  },
  {
   "cell_type": "markdown",
   "metadata": {},
   "source": [
    "### Data Cleaning"
   ]
  },
  {
   "cell_type": "markdown",
   "metadata": {},
   "source": [
    "According to the source website https://www.kaggle.com/datasets/flashgordon/usa-airport-dataset, this dataset (with data from the OpenFlights website) contains over 3.5 million US Domestic Flights from 1990 to 2009.\n",
    "\n",
    "It contains the following features:\n",
    "\n",
    "1. `Origin_airport`: Three letter airport code of the origin airport  \n",
    "2. `Destination_airport`: Three letter airport code of the destination airport  \n",
    "3. `Origin_city`: Origin city name  \n",
    "4. `Destination_city`: Destination city name  \n",
    "5. `Passengers`: Number of passengers transported from origin to destination  \n",
    "6. `Seats`: Number of seats available on flights from origin to destination  \n",
    "7. `Flights`: Number of flights between origin and destination (multiple records for one month, many with flights > 1)  \n",
    "8. `Distance`: Distance (to nearest mile) flown between origin and destination  \n",
    "9. `Fly_date`: The date (yyyymm) of flight  \n",
    "10. `Origin_population`: Origin city's population as reported by US Census  \n",
    "11. `Destination_population`: Destination city's population as reported by US Census  \n",
    "12. `Org_airport_lat`: latitude of the origin airport  \n",
    "13. `Org_airport_long`: longitude of the origin airport  \n",
    "14. `Dest_airport_lat`: latitude of the destination airport  \n",
    "15. `Dest_airport_long`: longitude of the destination airport\n",
    "\n",
    "Here we can see the shape of the dataset:"
   ]
  },
  {
   "cell_type": "code",
   "execution_count": 3,
   "metadata": {},
   "outputs": [
    {
     "name": "stdout",
     "output_type": "stream",
     "text": [
      "Number of rows: 3606803\n",
      "Number of columns 15\n"
     ]
    }
   ],
   "source": [
    "print(f'Number of rows: {df.shape[0]}')\n",
    "print(f'Number of columns {df.shape[1]}')"
   ]
  },
  {
   "cell_type": "markdown",
   "metadata": {},
   "source": [
    "Now we look for missing values:"
   ]
  },
  {
   "cell_type": "code",
   "execution_count": 4,
   "metadata": {},
   "outputs": [
    {
     "data": {
      "text/plain": [
       "Origin_airport               0\n",
       "Destination_airport          0\n",
       "Origin_city                  0\n",
       "Destination_city             0\n",
       "Passengers                   0\n",
       "Seats                        0\n",
       "Flights                      0\n",
       "Distance                     0\n",
       "Fly_date                     0\n",
       "Origin_population            0\n",
       "Destination_population       0\n",
       "Org_airport_lat           6954\n",
       "Org_airport_long          6954\n",
       "Dest_airport_lat          6807\n",
       "Dest_airport_long         6807\n",
       "dtype: int64"
      ]
     },
     "execution_count": 4,
     "metadata": {},
     "output_type": "execute_result"
    }
   ],
   "source": [
    "# Look for missing values\n",
    "missing_counts = df.isnull().sum()\n",
    "missing_counts"
   ]
  },
  {
   "cell_type": "markdown",
   "metadata": {},
   "source": [
    "The most important features have no missing values, and the missing rows in the latitude and longitude columns can be dealt with later if it is needed, for example by looking up these values for the corresponding airports.\n",
    "\n",
    "Next, we do a data type integrity check. `Passengers`, `Seats`, `Flights`, `Origin_population`, `Destination_population` should be integers, `Distance` and the coordinates columns should be numeric (float or integer), and `Fly_date` should be in date format."
   ]
  },
  {
   "cell_type": "code",
   "execution_count": 5,
   "metadata": {},
   "outputs": [
    {
     "name": "stdout",
     "output_type": "stream",
     "text": [
      "<class 'pandas.core.frame.DataFrame'>\n",
      "RangeIndex: 3606803 entries, 0 to 3606802\n",
      "Data columns (total 15 columns):\n",
      " #   Column                  Dtype  \n",
      "---  ------                  -----  \n",
      " 0   Origin_airport          object \n",
      " 1   Destination_airport     object \n",
      " 2   Origin_city             object \n",
      " 3   Destination_city        object \n",
      " 4   Passengers              int64  \n",
      " 5   Seats                   int64  \n",
      " 6   Flights                 int64  \n",
      " 7   Distance                int64  \n",
      " 8   Fly_date                object \n",
      " 9   Origin_population       int64  \n",
      " 10  Destination_population  int64  \n",
      " 11  Org_airport_lat         float64\n",
      " 12  Org_airport_long        float64\n",
      " 13  Dest_airport_lat        float64\n",
      " 14  Dest_airport_long       float64\n",
      "dtypes: float64(4), int64(6), object(5)\n",
      "memory usage: 412.8+ MB\n"
     ]
    }
   ],
   "source": [
    "df.info()"
   ]
  },
  {
   "cell_type": "markdown",
   "metadata": {},
   "source": [
    "All data types seem correct, but it would be good to convert the `Fly_date` column type from object to datetime. From the output above it seems that the column is in the yyyy-dd-mm format. We can verify if the second or third number in the date is above 12 somewhere, to make sure the third number actually indicates the month:"
   ]
  },
  {
   "cell_type": "code",
   "execution_count": 6,
   "metadata": {},
   "outputs": [],
   "source": [
    "# Check if day>12 or month>12 somewhere to figure out date format\n",
    "for date in df['Fly_date']:\n",
    "    year, entry2, entry3 = map(int, date.split('-'))\n",
    "    if entry2>12:\n",
    "        print('Format is yyyy-dd-mm')\n",
    "    if entry3>13:\n",
    "        print('Format is yyyy-mm-dd')\n",
    "\n",
    "# See if the third date entry is different from '01' somewhere\n",
    "for date in df['Fly_date']:\n",
    "    year, entry2, entry3 = map(str, date.split('-'))\n",
    "    if entry3 != '01':\n",
    "        print(date)"
   ]
  },
  {
   "cell_type": "markdown",
   "metadata": {},
   "source": [
    "Since neither the second nor third entry in the date contain values above 13, the format remains ambiguous. We will treat the format in the column as yyyy-dd-mm because the last number is consistently '01', and thus convert it to datetime:"
   ]
  },
  {
   "cell_type": "code",
   "execution_count": 7,
   "metadata": {},
   "outputs": [],
   "source": [
    "df['Fly_date'] =pd.to_datetime(df['Fly_date'], format='%Y-%d-%m')"
   ]
  },
  {
   "cell_type": "markdown",
   "metadata": {},
   "source": [
    "We can verify if there are any duplicates, and if there are, create a copy of the dataset without duplicate rows. Since there are no timestamp values, it could be that duplicate rows are due to the existence of multiple flights in the same day with the exact same information. For this reason, we will keep the original dataset with all the rows too."
   ]
  },
  {
   "cell_type": "code",
   "execution_count": 8,
   "metadata": {},
   "outputs": [
    {
     "name": "stdout",
     "output_type": "stream",
     "text": [
      "Number of duplicate rows: 41753\n",
      "Number of rows after removing duplicates: 3565050\n"
     ]
    }
   ],
   "source": [
    "# Count number of duplicates\n",
    "num_duplicates = df.duplicated().sum()\n",
    "print(f'Number of duplicate rows: {num_duplicates}')\n",
    "\n",
    "# Save a copy of the dataset without the duplicates\n",
    "df2 = df.drop_duplicates()\n",
    "print(f'Number of rows after removing duplicates: {df2.shape[0]}')"
   ]
  },
  {
   "cell_type": "markdown",
   "metadata": {},
   "source": [
    "Now we check if the latitude and longitude data is valid. Latitude values, if not missing, should be in the interval [-90,90], and longitude values in the interval [-180, 180]."
   ]
  },
  {
   "cell_type": "code",
   "execution_count": 9,
   "metadata": {},
   "outputs": [
    {
     "name": "stdout",
     "output_type": "stream",
     "text": [
      " Mininum latitude: 19.721399307251, Maximum latitude: 64.83750153\n",
      " Mininum longitude: -157.921997070312, Maximum longitude: -68.8281021118164\n"
     ]
    }
   ],
   "source": [
    "# Check if not missing latitude values are in [-90, 90]\n",
    "print(f' Mininum latitude: {df['Org_airport_lat'].min()}, Maximum latitude: {df['Org_airport_lat'].max()}')\n",
    "\n",
    "# Check if not missing longitude values are in [-180, 180]\n",
    "print(f' Mininum longitude: {df['Org_airport_long'].min()}, Maximum longitude: {df['Org_airport_long'].max()}')"
   ]
  },
  {
   "cell_type": "markdown",
   "metadata": {},
   "source": [
    "Additionally, we would like the number of passengers to not exceed the number of seats:"
   ]
  },
  {
   "cell_type": "code",
   "execution_count": 10,
   "metadata": {},
   "outputs": [
    {
     "name": "stdout",
     "output_type": "stream",
     "text": [
      "Number of rows for which number of passengers is greater than number of seats: 280\n"
     ]
    }
   ],
   "source": [
    "# Check if number of passangers is greater than number of seats\n",
    "print(f'Number of rows for which number of passengers is greater than number of seats: {df[df['Passengers']>df['Seats']].shape[0]}')"
   ]
  },
  {
   "cell_type": "markdown",
   "metadata": {},
   "source": [
    "There are 280 flights with more passengers than seats, which is a problematic that can happen if there is overbooking. Sometimes, airlines might sell more tickets than there are seats because there could be passangers that cancel or do not show up."
   ]
  },
  {
   "cell_type": "markdown",
   "metadata": {},
   "source": [
    "Lastly, we want to make sure that the same airport code is not associated with different cities:"
   ]
  },
  {
   "cell_type": "code",
   "execution_count": 33,
   "metadata": {},
   "outputs": [
    {
     "name": "stdout",
     "output_type": "stream",
     "text": [
      "Maximum number of cities associated with a destination airport code: 1\n",
      "Maximum number of cities associated with an origin airport code: 1\n"
     ]
    }
   ],
   "source": [
    "# Group by 'Destination_airport' and count unique values of 'Destination_city' (we want all 1s)\n",
    "dest_max__num_cities_for_code = max(df2.groupby('Destination_airport')['Destination_city'].nunique())\n",
    "print(f'Maximum number of cities associated with a destination airport code: {dest_max__num_cities_for_code}')\n",
    "\n",
    "# Group by 'Origin_airport' and count unique values of 'Origin_city' (we want all 1s)\n",
    "origin_max__num_cities_for_code = max(df2.groupby('Origin_airport')['Origin_city'].nunique())\n",
    "print(f'Maximum number of cities associated with an origin airport code: {origin_max__num_cities_for_code}')"
   ]
  },
  {
   "cell_type": "markdown",
   "metadata": {},
   "source": [
    "Perfect, every airport code only has one associated city."
   ]
  },
  {
   "cell_type": "markdown",
   "metadata": {},
   "source": [
    "### Create the Graph"
   ]
  },
  {
   "cell_type": "markdown",
   "metadata": {},
   "source": [
    "To work with the airline graph, we will create a directed graph class:"
   ]
  },
  {
   "cell_type": "code",
   "execution_count": 23,
   "metadata": {},
   "outputs": [],
   "source": [
    "# Custom DiGraph Class\n",
    "class CustomDiGraph:\n",
    "    def __init__(self):\n",
    "        '''Initialization of an empty graph'''\n",
    "        self.nodes = set()  # set to store nodes\n",
    "        self.edges = defaultdict(set) # default dictionary to store edges: key=node, value=set of neighbors\n",
    "\n",
    "    def add_node(self, node):\n",
    "        '''Function to add a node to the graph'''\n",
    "        self.nodes.add(node)\n",
    "\n",
    "    def add_edge(self, node1, node2):\n",
    "        '''Function that adds an outgoing edge from node1 to node2'''\n",
    "        # Add node1 and node2 to set of nodes in case they are not already in it\n",
    "        self.add_node(node1)\n",
    "        self.add_node(node2)\n",
    "        self.edges[node1].add(node2) # add node2 to set of neighbors of node1\n",
    "\n",
    "    def remove_node(self, node):\n",
    "        '''Function that removes a node and all edges connected to it'''\n",
    "        if node in self.nodes:\n",
    "            self.nodes.remove(node)\n",
    "            del self.edges[node]  # Remove the node from the edges dictionary\n",
    "            # Remove any edges that point to this node\n",
    "            for other_node in list(self.edges.keys()):\n",
    "                self.edges[other_node].discard(node)\n",
    "\n",
    "    def remove_edge(self, node1, node2):\n",
    "        '''Function that removes an edge from node1 to node2'''\n",
    "        self.edges[node1].discard(node2)\n",
    "\n",
    "    def remove_all_edges(self, node1, node2):\n",
    "        '''Function that removes any edge between node1 and node2'''\n",
    "        self.edges[node1].discard(node2)\n",
    "        self.edges[node2].discard(node1)\n",
    "    \n",
    "    def get_neighbors(self, node):\n",
    "        '''Function that returns the neighbors of a node'''\n",
    "        return self.edges[node]\n",
    "\n",
    "    def get_nodes(self):\n",
    "        '''Function that returns a list of all nodes'''\n",
    "        return list(self.nodes)\n",
    "\n",
    "    def get_edges(self):\n",
    "        '''Function that returns a set of all edges as tuples (node1, node2)'''\n",
    "        edge_set = set()\n",
    "        for node1 in self.nodes:\n",
    "            for node2 in self.get_neighbors(node1):\n",
    "                edge_set.add((node1, node2))\n",
    "        return edge_set\n",
    "    \n",
    "    def has_edge(self, node1, node2):\n",
    "        '''Function that returns True if there is an edge between node1 and node2'''\n",
    "        return node2 in self.get_neighbors(node1)\n",
    "\n",
    "    def out_degree(self, node):\n",
    "        '''Returns the out-degree of a node (number of outgoing edges)'''\n",
    "        if node in self.edges:\n",
    "            return len(self.edges[node])\n",
    "        else:\n",
    "            return 0\n",
    "    \n",
    "    def in_degree(self, node):\n",
    "        '''Returns the in-degree of a node (number of incoming edges)'''\n",
    "        num_in_edges = 0\n",
    "        for neighbor in self.nodes:\n",
    "            if node in self.edges[neighbor]:\n",
    "                num_in_edges += 1\n",
    "        return num_in_edges\n",
    "\n",
    "    def __str__(self):\n",
    "        '''Function that returns a string representation of the graph'''\n",
    "        return f'Nodes: {self.nodes}\\nEdges: {self.get_edges()}'\n",
    "    \n",
    "    def to_networkx_digraph(self):\n",
    "        '''Function that converts the custom graph to a NetworkX DiGraph'''\n",
    "        G = nx.DiGraph()\n",
    "        for node in self.nodes:\n",
    "            G.add_node(node)\n",
    "        for node1, neighbors in self.edges.items():\n",
    "            for node2 in neighbors:\n",
    "                G.add_edge(node1, node2)\n",
    "        return G\n",
    "    \n",
    "    def num_nodes(self):\n",
    "        '''Function that returns the number of nodes in the graph'''\n",
    "        return len(self.nodes)\n",
    "    \n",
    "    def num_edges(self):\n",
    "        '''Function that returns the number of edges in the graph'''\n",
    "        return len(self.get_edges())"
   ]
  },
  {
   "cell_type": "code",
   "execution_count": 14,
   "metadata": {},
   "outputs": [],
   "source": [
    "# Custom Undirected Graph Class\n",
    "\n",
    "from collections import defaultdict\n",
    "import networkx as nx\n",
    "\n",
    "class CustomGraph:\n",
    "    def __init__(self):\n",
    "        '''Initialization of an empty graph'''\n",
    "        self.nodes = set()  # set to store nodes\n",
    "        self.edges = defaultdict(set)  # default dictionary to store edges: key=node, value=set of neighbors\n",
    "\n",
    "    def add_node(self, node):\n",
    "        '''Function to add a node to the graph'''\n",
    "        self.nodes.add(node)\n",
    "\n",
    "    def add_edge(self, node1, node2):\n",
    "        '''Function that adds an edge between node1 and node2'''\n",
    "        self.add_node(node1)\n",
    "        self.add_node(node2)\n",
    "        self.edges[node1].add(node2)\n",
    "        self.edges[node2].add(node1)\n",
    "\n",
    "    def remove_node(self, node):\n",
    "        '''Function that removes a node and all edges connected to it'''\n",
    "        if node in self.nodes:\n",
    "            self.nodes.remove(node)\n",
    "            del self.edges[node]\n",
    "            for other_node in list(self.edges.keys()):\n",
    "                self.edges[other_node].discard(node)\n",
    "\n",
    "    def remove_edge(self, node1, node2):\n",
    "        '''Function that removes edge between node1 and node2'''\n",
    "        self.edges[node1].discard(node2)\n",
    "        self.edges[node2].discard(node1)\n",
    "\n",
    "    def get_neighbors(self, node):\n",
    "        '''Function that returns the neighbors of a node'''\n",
    "        return self.edges[node]\n",
    "\n",
    "    def get_nodes(self):\n",
    "        '''Function that returns a list of all nodes'''\n",
    "        return list(self.nodes)\n",
    "\n",
    "    def get_edges(self):\n",
    "        '''Function that returns a set of all edges as tuples (node1, node2)'''\n",
    "        edge_set = set()\n",
    "        for node1 in self.nodes:\n",
    "            for node2 in self.get_neighbors(node1):\n",
    "                if (node2, node1) not in edge_set:\n",
    "                    edge_set.add((node1, node2))\n",
    "        return edge_set\n",
    "\n",
    "    def has_edge(self, node1, node2):\n",
    "        '''Function that returns True if there is an edge between node1 and node2'''\n",
    "        return node2 in self.get_neighbors(node1)\n",
    "\n",
    "    def degree(self, node):\n",
    "        '''Returns the degree of a node (number of edges connected to it)'''\n",
    "        if node in self.edges:\n",
    "            return len(self.edges[node])\n",
    "        else:\n",
    "            return 0\n",
    "        \n",
    "    def __str__(self):\n",
    "        '''Function that returns a string representation of the graph'''\n",
    "        return f'Nodes: {self.nodes}\\nEdges: {self.get_edges()}'\n",
    "\n",
    "    def to_networkx_graph(self):\n",
    "        '''Function that converts the custom graph to a NetworkX Graph'''\n",
    "        G = nx.Graph()\n",
    "        for node in self.nodes:\n",
    "            G.add_node(node)\n",
    "        for node1, neighbors in self.edges.items():\n",
    "            for node2 in neighbors:\n",
    "                G.add_edge(node1, node2)\n",
    "        return G\n",
    "\n",
    "    def num_nodes(self):\n",
    "        '''Function that returns the number of nodes in the graph'''\n",
    "        return len(self.nodes)\n",
    "\n",
    "    def num_edges(self):\n",
    "        '''Function that returns the number of edges in the graph'''\n",
    "        return len(self.get_edges())\n"
   ]
  },
  {
   "cell_type": "markdown",
   "metadata": {},
   "source": [
    "Now we initialize the `flight_network` graph, add nodes to it for each airport, and directed edges for flights (from origin airport to destination airport)."
   ]
  },
  {
   "cell_type": "code",
   "execution_count": 24,
   "metadata": {},
   "outputs": [],
   "source": [
    "flight_network = CustomDiGraph()"
   ]
  },
  {
   "cell_type": "code",
   "execution_count": 25,
   "metadata": {},
   "outputs": [],
   "source": [
    "# Add all unique airports (origin and destination) as nodes\n",
    "all_airports = set(df['Origin_airport']).union(set(df['Destination_airport']))\n",
    "for airport in all_airports:\n",
    "    flight_network.add_node(airport)\n",
    "\n",
    "# Add edges to the graph\n",
    "for idx in range(df2.shape[0]):\n",
    "    origin = df2['Origin_airport'].iloc[idx]\n",
    "    destination = df2['Destination_airport'].iloc[idx]\n",
    "    # If the edge is not there yet, add the edge\n",
    "    if not flight_network.has_edge(origin, destination):\n",
    "        flight_network.add_edge(origin, destination)"
   ]
  },
  {
   "cell_type": "markdown",
   "metadata": {},
   "source": [
    "Here we plot the graph of the USA airports network by using the networkx library (just for visualization purposes). To prevent the graph from being too messy, we did not add labels here."
   ]
  },
  {
   "cell_type": "code",
   "execution_count": 26,
   "metadata": {},
   "outputs": [
    {
     "data": {
      "text/plain": [
       "Text(0.5, 1.0, 'USA Airports Network')"
      ]
     },
     "execution_count": 26,
     "metadata": {},
     "output_type": "execute_result"
    },
    {
     "data": {
      "image/png": "[encoded data removed]",
      "text/plain": [
       "<Figure size 640x480 with 1 Axes>"
      ]
     },
     "metadata": {},
     "output_type": "display_data"
    }
   ],
   "source": [
    "# Plot the graph using NetworkX\n",
    "G = flight_network.to_networkx_digraph()\n",
    "nx.draw(G, node_size=50)\n",
    "plt.title('USA Airports Network')"
   ]
  },
  {
   "cell_type": "markdown",
   "metadata": {},
   "source": [
    "Here we can check how many of the edges are reciprocated, to see if using a directed graph instead of an undirected graph was the right choice:"
   ]
  },
  {
   "cell_type": "code",
   "execution_count": 21,
   "metadata": {},
   "outputs": [
    {
     "name": "stdout",
     "output_type": "stream",
     "text": [
      "Percentage of reciprocated edges: 74.04%\n"
     ]
    }
   ],
   "source": [
    "# Calculate the number of reciprocated edges\n",
    "reciprocated_edges = 0\n",
    "for edge in G.edges():\n",
    "    # Check if the reverse edge exists (reciprocated)\n",
    "    if G.has_edge(edge[1], edge[0]):\n",
    "        reciprocated_edges += 1\n",
    "\n",
    "# Calculate the percentage of reciprocated edges\n",
    "if len(G.edges())>0:\n",
    "    percentage_reciprocated_edges = reciprocated_edges / len(G.edges())*100\n",
    "    print(f'Percentage of reciprocated edges: {percentage_reciprocated_edges:.2f}%')\n",
    "else:\n",
    "    print('No edges in the graph.')"
   ]
  },
  {
   "cell_type": "markdown",
   "metadata": {},
   "source": [
    "About 74.04% of the edges are reciprocated, so some nodes only have one-way connections, which is best represented by a directed graph."
   ]
  },
  {
   "cell_type": "markdown",
   "metadata": {},
   "source": [
    "### Implement the function ```analyze_graph_features(flight_network)```"
   ]
  },
  {
   "cell_type": "markdown",
   "metadata": {},
   "source": [
    "Now we implement a function `analyze_graph_features(flight_network)` that takes the `flight_network` as input and computes:\n",
    "\n",
    "* Number of airports (nodes) and flights (edges) in the graph.\n",
    "* Density of the (directed) graph: $\\frac{E}{n \\cdot (n-1)}$\n",
    "* Calculate in-degree and out-degree values for each airport and visualize them using histograms\n",
    "* Find airports with degrees higher than the 90th percentile and list them as *hubs*\n",
    "* Determine if the graph is sparse or dense based on its density"
   ]
  },
  {
   "cell_type": "code",
   "execution_count": 38,
   "metadata": {},
   "outputs": [],
   "source": [
    "def analyze_graph_features(flight_network):\n",
    "    # Count number of airports (nodes)\n",
    "    num_airports = flight_network.num_nodes()\n",
    "\n",
    "    # Count number of flights (edges)\n",
    "    num_flights = flight_network.num_edges()\n",
    "\n",
    "    # Calculate density\n",
    "    density = num_flights / (num_airports*(num_airports-1))\n",
    "\n",
    "    # Calculate in-degrees\n",
    "    in_degrees = [flight_network.in_degree(node) for node in flight_network.get_nodes()]\n",
    "\n",
    "    # Calculate out-degrees\n",
    "    out_degrees = [flight_network.out_degree(node) for node in flight_network.get_nodes()]\n",
    "\n",
    "    # Plot histograms of in-degrees and out-degrees\n",
    "    plt.figure(figsize=(10, 5))\n",
    "    plt.subplot(1, 2, 1)\n",
    "    plt.hist(in_degrees, bins=30)\n",
    "    plt.xlabel('In-degree')\n",
    "    plt.ylabel('Frequency')\n",
    "    plt.title('In-degree Distribution')\n",
    "    plt.subplot(1, 2, 2)\n",
    "    plt.hist(out_degrees, bins=30)\n",
    "    plt.xlabel('Out-degree')\n",
    "    plt.ylabel('Frequency')\n",
    "    plt.title('Out-degree Distribution')\n",
    "    plt.tight_layout()\n",
    "\n",
    "    # Calculate 90th percentile of in_degrees\n",
    "    percentile_90_in_degrees = np.percentile(in_degrees, 90)\n",
    "\n",
    "    # Calculate 90th percentile of out_degrees\n",
    "    percentile_90_out_degrees = np.percentile(out_degrees, 90)\n",
    "\n",
    "    # Find airports with in-degree greater than 90th percentile\n",
    "    in_degree_hubs = [node for node in flight_network.get_nodes() if flight_network.in_degree(node) > percentile_90_in_degrees]\n",
    "    out_degree_hubs = [node for node in flight_network.get_nodes() if flight_network.out_degree(node) > percentile_90_out_degrees]\n",
    "\n",
    "    # Determine hubs as airports with high in-degree or out-degree\n",
    "    hubs = list(set(in_degree_hubs).union(set(out_degree_hubs)))\n",
    "\n",
    "    # Determine if the graph is dense or sparse based on the density\n",
    "    threshold = 0.05\n",
    "    dense = False\n",
    "    if density > threshold:\n",
    "        dense = True\n",
    "\n",
    "    print(f'Number of airports (nodes): {num_airports}')\n",
    "    print(f'Number of flights (edges): {num_flights}')\n",
    "    print(f'Graph Density: {density}')\n",
    "    print(f'Graph is dense: {dense}')\n",
    "    print('Hubs:')\n",
    "    print(hubs)\n",
    "    print('Degree distributions: ')\n",
    "    plt.show()\n",
    "\n",
    "    return num_airports, num_flights, density, hubs"
   ]
  },
  {
   "cell_type": "markdown",
   "metadata": {},
   "source": [
    "We apply the `analyze_graph_features` function to analyze the graph:"
   ]
  },
  {
   "cell_type": "code",
   "execution_count": 39,
   "metadata": {},
   "outputs": [
    {
     "name": "stdout",
     "output_type": "stream",
     "text": [
      "Number of airports (nodes): 727\n",
      "Number of flights (edges): 36719\n",
      "Graph Density: 0.0695696492245198\n",
      "Graph is dense: True\n",
      "Hubs:\n",
      "['SAT', 'SYR', 'COS', 'SAN', 'ELP', 'LAX', 'FLL', 'CAE', 'YIP', 'OAK', 'GSP', 'MSP', 'DSM', 'ORD', 'DFW', 'MDW', 'MKE', 'LRD', 'OMA', 'BHM', 'HOU', 'TPA', 'GRR', 'SFO', 'AUS', 'BNA', 'LAS', 'STL', 'BWI', 'RDU', 'PIA', 'BUF', 'IAH', 'MCI', 'LGA', 'ICT', 'ATL', 'IAD', 'SBN', 'OKC', 'CLT', 'LIT', 'PHX', 'DAY', 'SLC', 'CVG', 'CMH', 'TUL', 'LEX', 'MEM', 'PIT', 'ABQ', 'BOS', 'JAX', 'PDX', 'IND', 'FWA', 'CLE', 'DTW', 'SEA', 'TOL', 'LAN', 'GSO', 'MSN', 'EWR', 'MSY', 'MCO', 'BDL', 'RFD', 'MIA', 'TUS', 'RNO', 'JFK', 'SHV', 'PHL', 'CHA', 'TYS', 'DAL']\n",
      "Degree distributions: \n"
     ]
    },
    {
     "data": {
      "image/png": "[encoded data removed]",
      "text/plain": [
       "<Figure size 1000x500 with 2 Axes>"
      ]
     },
     "metadata": {},
     "output_type": "display_data"
    }
   ],
   "source": [
    "num_airports, num_flights, density, hubs = analyze_graph_features(flight_network)"
   ]
  },
  {
   "cell_type": "markdown",
   "metadata": {},
   "source": [
    "This analysis shows hubs by their airport code. To get a list of cities where the hubs are located, we can implement a dictionary that maps airport codes to their city, then apply it to the list of hub airport codes."
   ]
  },
  {
   "cell_type": "code",
   "execution_count": 37,
   "metadata": {},
   "outputs": [],
   "source": [
    "# Dictionary that maps codes to cities\n",
    "code_to_city_dict = defaultdict(str)\n",
    "\n",
    "# Populate code_to_city_dict\n",
    "for idx in range(df2.shape[0]):\n",
    "    # Origin code and city of the row\n",
    "    origin_code = df2['Origin_airport'].iloc[idx]\n",
    "    origin_city = df2['Origin_city'].iloc[idx]\n",
    "    # Destination code and city of the row\n",
    "    destination_code = df2['Destination_airport'].iloc[idx]\n",
    "    destination_city = df2['Destination_city'].iloc[idx]\n",
    "    # Add values to dictionary (if not already present)\n",
    "    if origin_code not in code_to_city_dict.keys():\n",
    "        code_to_city_dict[origin_code] = origin_city\n",
    "    if destination_code not in code_to_city_dict.keys():\n",
    "        code_to_city_dict[destination_code] = destination_city"
   ]
  },
  {
   "cell_type": "markdown",
   "metadata": {},
   "source": [
    "Here are the cities of the hubs:"
   ]
  },
  {
   "cell_type": "code",
   "execution_count": 40,
   "metadata": {},
   "outputs": [
    {
     "data": {
      "text/html": [
       "<div>\n",
       "<style scoped>\n",
       "    .dataframe tbody tr th:only-of-type {\n",
       "        vertical-align: middle;\n",
       "    }\n",
       "\n",
       "    .dataframe tbody tr th {\n",
       "        vertical-align: top;\n",
       "    }\n",
       "\n",
       "    .dataframe thead th {\n",
       "        text-align: right;\n",
       "    }\n",
       "</style>\n",
       "<table border=\"1\" class=\"dataframe\">\n",
       "  <thead>\n",
       "    <tr style=\"text-align: right;\">\n",
       "      <th></th>\n",
       "      <th>Hubs Cities</th>\n",
       "    </tr>\n",
       "  </thead>\n",
       "  <tbody>\n",
       "    <tr>\n",
       "      <th>0</th>\n",
       "      <td>San Antonio, TX</td>\n",
       "    </tr>\n",
       "    <tr>\n",
       "      <th>1</th>\n",
       "      <td>Syracuse, NY</td>\n",
       "    </tr>\n",
       "    <tr>\n",
       "      <th>2</th>\n",
       "      <td>Colorado Springs, CO</td>\n",
       "    </tr>\n",
       "    <tr>\n",
       "      <th>3</th>\n",
       "      <td>San Diego, CA</td>\n",
       "    </tr>\n",
       "    <tr>\n",
       "      <th>4</th>\n",
       "      <td>El Paso, TX</td>\n",
       "    </tr>\n",
       "    <tr>\n",
       "      <th>...</th>\n",
       "      <td>...</td>\n",
       "    </tr>\n",
       "    <tr>\n",
       "      <th>73</th>\n",
       "      <td>Shreveport, LA</td>\n",
       "    </tr>\n",
       "    <tr>\n",
       "      <th>74</th>\n",
       "      <td>Philadelphia, PA</td>\n",
       "    </tr>\n",
       "    <tr>\n",
       "      <th>75</th>\n",
       "      <td>Chattanooga, TN</td>\n",
       "    </tr>\n",
       "    <tr>\n",
       "      <th>76</th>\n",
       "      <td>Knoxville, TN</td>\n",
       "    </tr>\n",
       "    <tr>\n",
       "      <th>77</th>\n",
       "      <td>Dallas, TX</td>\n",
       "    </tr>\n",
       "  </tbody>\n",
       "</table>\n",
       "<p>78 rows × 1 columns</p>\n",
       "</div>"
      ],
      "text/plain": [
       "             Hubs Cities\n",
       "0        San Antonio, TX\n",
       "1           Syracuse, NY\n",
       "2   Colorado Springs, CO\n",
       "3          San Diego, CA\n",
       "4            El Paso, TX\n",
       "..                   ...\n",
       "73        Shreveport, LA\n",
       "74      Philadelphia, PA\n",
       "75       Chattanooga, TN\n",
       "76         Knoxville, TN\n",
       "77            Dallas, TX\n",
       "\n",
       "[78 rows x 1 columns]"
      ]
     },
     "metadata": {},
     "output_type": "display_data"
    }
   ],
   "source": [
    "# List of cities with hubs\n",
    "hubs_cities = [code_to_city_dict[hub] for hub in hubs]\n",
    "\n",
    "# Display these cities in a DataFrame\n",
    "hubs_cities_df = pd.DataFrame(hubs_cities, columns=['Hubs Cities'])\n",
    "display(hubs_cities_df)"
   ]
  },
  {
   "cell_type": "markdown",
   "metadata": {},
   "source": [
    "### Implement the function ```summarize_graph_features(flight_network)```"
   ]
  },
  {
   "cell_type": "markdown",
   "metadata": {},
   "source": [
    "### Graph Analysis"
   ]
  },
  {
   "cell_type": "markdown",
   "metadata": {},
   "source": [
    "### Report"
   ]
  },
  {
   "cell_type": "markdown",
   "metadata": {},
   "source": [
    "### Questions"
   ]
  }
 ],
 "metadata": {
  "kernelspec": {
   "display_name": "Python 3",
   "language": "python",
   "name": "python3"
  },
  "language_info": {
   "codemirror_mode": {
    "name": "ipython",
    "version": 3
   },
   "file_extension": ".py",
   "mimetype": "text/x-python",
   "name": "python",
   "nbconvert_exporter": "python",
   "pygments_lexer": "ipython3",
   "version": "3.12.8"
  }
 },
 "nbformat": 4,
 "nbformat_minor": 2
}
